{
 "cells": [
  {
   "cell_type": "code",
   "execution_count": 1,
   "metadata": {},
   "outputs": [
    {
     "name": "stdout",
     "output_type": "stream",
     "text": [
      "Collecting tk\n",
      "  Downloading tk-0.1.0-py3-none-any.whl (3.9 kB)\n",
      "Installing collected packages: tk\n",
      "Successfully installed tk-0.1.0\n"
     ]
    }
   ],
   "source": [
    "!pip install tk bob"
   ]
  },
  {
   "cell_type": "code",
   "execution_count": 5,
   "metadata": {},
   "outputs": [
    {
     "name": "stdout",
     "output_type": "stream",
     "text": [
      "Requirement already satisfied: pyqt5 in c:\\users\\stith\\anaconda3\\lib\\site-packages (5.15.9)\n",
      "Requirement already satisfied: PyQt5-sip<13,>=12.11 in c:\\users\\stith\\anaconda3\\lib\\site-packages (from pyqt5) (12.11.0)\n",
      "Requirement already satisfied: PyQt5-Qt5>=5.15.2 in c:\\users\\stith\\anaconda3\\lib\\site-packages (from pyqt5) (5.15.2)\n"
     ]
    }
   ],
   "source": [
    "!pip install pyqt5"
   ]
  },
  {
   "cell_type": "code",
   "execution_count": 4,
   "metadata": {},
   "outputs": [
    {
     "name": "stdout",
     "output_type": "stream",
     "text": [
      "Collecting PyQt5-tools\n",
      "  Downloading pyqt5_tools-5.15.9.3.3-py3-none-any.whl (29 kB)\n",
      "Collecting python-dotenv\n",
      "  Downloading python_dotenv-1.0.0-py3-none-any.whl (19 kB)\n",
      "Collecting pyqt5-plugins<5.15.9.3,>=5.15.9.2.2\n",
      "  Downloading pyqt5_plugins-5.15.9.2.3-cp310-cp310-win_amd64.whl (66 kB)\n",
      "     ---------------------------------------- 66.8/66.8 kB 3.5 MB/s eta 0:00:00\n",
      "Collecting pyqt5==5.15.9\n",
      "  Downloading PyQt5-5.15.9-cp37-abi3-win_amd64.whl (6.8 MB)\n",
      "     ---------------------------------------- 6.8/6.8 MB 25.8 MB/s eta 0:00:00\n",
      "Requirement already satisfied: click in c:\\users\\stith\\anaconda3\\lib\\site-packages (from PyQt5-tools) (8.0.4)\n",
      "Collecting PyQt5-Qt5>=5.15.2\n",
      "  Downloading PyQt5_Qt5-5.15.2-py3-none-win_amd64.whl (50.1 MB)\n",
      "     --------------------------------------- 50.1/50.1 MB 18.7 MB/s eta 0:00:00\n",
      "Requirement already satisfied: PyQt5-sip<13,>=12.11 in c:\\users\\stith\\anaconda3\\lib\\site-packages (from pyqt5==5.15.9->PyQt5-tools) (12.11.0)\n",
      "Collecting qt5-tools<5.15.2.2,>=5.15.2.1.2\n",
      "  Downloading qt5_tools-5.15.2.1.3-py3-none-any.whl (13 kB)\n",
      "Requirement already satisfied: colorama in c:\\users\\stith\\anaconda3\\lib\\site-packages (from click->PyQt5-tools) (0.4.6)\n",
      "Collecting qt5-applications<5.15.2.3,>=5.15.2.2.2\n",
      "  Downloading qt5_applications-5.15.2.2.3-py3-none-win_amd64.whl (64.5 MB)\n",
      "     --------------------------------------- 64.5/64.5 MB 14.5 MB/s eta 0:00:00\n",
      "Installing collected packages: PyQt5-Qt5, qt5-applications, python-dotenv, pyqt5, qt5-tools, pyqt5-plugins, PyQt5-tools\n",
      "  Attempting uninstall: pyqt5\n",
      "    Found existing installation: PyQt5 5.15.7\n",
      "    Uninstalling PyQt5-5.15.7:\n",
      "      Successfully uninstalled PyQt5-5.15.7\n",
      "Successfully installed PyQt5-Qt5-5.15.2 PyQt5-tools-5.15.9.3.3 pyqt5-5.15.9 pyqt5-plugins-5.15.9.2.3 python-dotenv-1.0.0 qt5-applications-5.15.2.2.3 qt5-tools-5.15.2.1.3\n"
     ]
    }
   ],
   "source": [
    "!pip install PyQt5-tools"
   ]
  },
  {
   "cell_type": "code",
   "execution_count": 1,
   "metadata": {},
   "outputs": [
    {
     "name": "stdout",
     "output_type": "stream",
     "text": [
      "Collecting zhinst\n",
      "  Downloading zhinst-23.2.4-py3-none-any.whl (2.5 kB)\n",
      "Collecting zhinst.toolkit==0.5.3\n",
      "  Downloading zhinst_toolkit-0.5.3-py3-none-any.whl (106 kB)\n",
      "     -------------------------------------- 106.9/106.9 kB 3.1 MB/s eta 0:00:00\n",
      "Collecting zhinst.core==23.2.42414\n",
      "  Downloading zhinst_core-23.2.42414-cp310-cp310-win_amd64.whl (9.1 MB)\n",
      "     ---------------------------------------- 9.1/9.1 MB 19.4 MB/s eta 0:00:00\n",
      "Collecting zhinst.utils==0.3.1\n",
      "  Downloading zhinst_utils-0.3.1-py3-none-any.whl (52 kB)\n",
      "     ---------------------------------------- 52.0/52.0 kB ? eta 0:00:00\n",
      "Requirement already satisfied: typing-extensions in c:\\users\\stith\\anaconda3\\lib\\site-packages (from zhinst.core==23.2.42414->zhinst) (4.4.0)\n",
      "Requirement already satisfied: numpy>=1.21 in c:\\users\\stith\\anaconda3\\lib\\site-packages (from zhinst.core==23.2.42414->zhinst) (1.23.5)\n",
      "Requirement already satisfied: jsonschema>=3.2.0 in c:\\users\\stith\\anaconda3\\lib\\site-packages (from zhinst.toolkit==0.5.3->zhinst) (4.17.3)\n",
      "Collecting jsonref>=0.2\n",
      "  Downloading jsonref-1.1.0-py3-none-any.whl (9.4 kB)\n",
      "Collecting pyelftools>=0.29\n",
      "  Downloading pyelftools-0.29-py2.py3-none-any.whl (174 kB)\n",
      "     ------------------------------------- 174.3/174.3 kB 10.9 MB/s eta 0:00:00\n",
      "Requirement already satisfied: attrs>=17.4.0 in c:\\users\\stith\\anaconda3\\lib\\site-packages (from jsonschema>=3.2.0->zhinst.toolkit==0.5.3->zhinst) (22.1.0)\n",
      "Requirement already satisfied: pyrsistent!=0.17.0,!=0.17.1,!=0.17.2,>=0.14.0 in c:\\users\\stith\\anaconda3\\lib\\site-packages (from jsonschema>=3.2.0->zhinst.toolkit==0.5.3->zhinst) (0.18.0)\n",
      "Installing collected packages: pyelftools, zhinst.core, jsonref, zhinst.utils, zhinst.toolkit, zhinst\n",
      "Successfully installed jsonref-1.1.0 pyelftools-0.29 zhinst-23.2.4 zhinst.core-23.2.42414 zhinst.toolkit-0.5.3 zhinst.utils-0.3.1\n"
     ]
    }
   ],
   "source": [
    "!pip install zhinst"
   ]
  },
  {
   "cell_type": "code",
   "execution_count": 1,
   "metadata": {},
   "outputs": [
    {
     "name": "stdout",
     "output_type": "stream",
     "text": [
      "Collecting pyqtgraph\n",
      "  Downloading pyqtgraph-0.13.3-py3-none-any.whl (960 kB)\n",
      "     -------------------------------------- 961.0/961.0 kB 8.6 MB/s eta 0:00:00\n",
      "Requirement already satisfied: numpy>=1.20.0 in c:\\users\\stith\\anaconda3\\lib\\site-packages (from pyqtgraph) (1.23.5)\n",
      "Installing collected packages: pyqtgraph\n",
      "Successfully installed pyqtgraph-0.13.3\n"
     ]
    }
   ],
   "source": [
    "!pip install pyqtgraph"
   ]
  },
  {
   "cell_type": "code",
   "execution_count": 1,
   "metadata": {},
   "outputs": [
    {
     "name": "stdout",
     "output_type": "stream",
     "text": [
      "Collecting PyUSB\n",
      "  Downloading pyusb-1.2.1-py3-none-any.whl (58 kB)\n",
      "     ---------------------------------------- 58.4/58.4 kB 1.5 MB/s eta 0:00:00\n",
      "Installing collected packages: PyUSB\n",
      "Successfully installed PyUSB-1.2.1\n"
     ]
    }
   ],
   "source": [
    "!pip install PyUSB"
   ]
  },
  {
   "cell_type": "code",
   "execution_count": 2,
   "metadata": {},
   "outputs": [
    {
     "name": "stdout",
     "output_type": "stream",
     "text": [
      "Collecting PySocket\n",
      "  Downloading pySocket-0.35.tar.gz (1.4 kB)\n",
      "  Preparing metadata (setup.py): started\n",
      "  Preparing metadata (setup.py): finished with status 'done'\n",
      "Building wheels for collected packages: PySocket\n",
      "  Building wheel for PySocket (setup.py): started\n",
      "  Building wheel for PySocket (setup.py): finished with status 'done'\n",
      "  Created wheel for PySocket: filename=pySocket-0.35-py3-none-any.whl size=1880 sha256=3e4d57ebb5d852901edc84d5cded047e5738c51fe0361eea6c161b44badc2460\n",
      "  Stored in directory: c:\\users\\stith\\appdata\\local\\pip\\cache\\wheels\\ac\\69\\3e\\b08e7a59961521d17b0706b776fa0d74f4b7e2bdf189351b7d\n",
      "Successfully built PySocket\n",
      "Installing collected packages: PySocket\n",
      "Successfully installed PySocket-0.35\n"
     ]
    }
   ],
   "source": [
    "!pip install PySocket"
   ]
  },
  {
   "cell_type": "code",
   "execution_count": 3,
   "metadata": {},
   "outputs": [
    {
     "name": "stdout",
     "output_type": "stream",
     "text": [
      "Collecting PySerial\n",
      "  Downloading pyserial-3.5-py2.py3-none-any.whl (90 kB)\n",
      "     ---------------------------------------- 90.6/90.6 kB 1.7 MB/s eta 0:00:00\n",
      "Installing collected packages: PySerial\n",
      "Successfully installed PySerial-3.5\n"
     ]
    }
   ],
   "source": [
    "!pip install PySerial"
   ]
  },
  {
   "cell_type": "code",
   "execution_count": 4,
   "metadata": {},
   "outputs": [
    {
     "name": "stdout",
     "output_type": "stream",
     "text": [
      "Collecting pipython\n",
      "  Downloading PIPython-2.10.0.2-py3-none-any.whl (296 kB)\n",
      "     -------------------------------------- 297.0/297.0 kB 4.6 MB/s eta 0:00:00\n",
      "Requirement already satisfied: pyserial in c:\\users\\stith\\anaconda3\\lib\\site-packages (from pipython) (3.5)\n",
      "Requirement already satisfied: pyusb in c:\\users\\stith\\anaconda3\\lib\\site-packages (from pipython) (1.2.1)\n",
      "Installing collected packages: pipython\n",
      "Successfully installed pipython-2.10.0.2\n"
     ]
    }
   ],
   "source": [
    "!pip install pipython"
   ]
  }
 ],
 "metadata": {
  "kernelspec": {
   "display_name": "base",
   "language": "python",
   "name": "python3"
  },
  "language_info": {
   "codemirror_mode": {
    "name": "ipython",
    "version": 3
   },
   "file_extension": ".py",
   "mimetype": "text/x-python",
   "name": "python",
   "nbconvert_exporter": "python",
   "pygments_lexer": "ipython3",
   "version": "3.10.9"
  },
  "orig_nbformat": 4
 },
 "nbformat": 4,
 "nbformat_minor": 2
}
