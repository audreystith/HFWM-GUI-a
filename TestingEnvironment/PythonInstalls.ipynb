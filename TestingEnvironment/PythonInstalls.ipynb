{
 "cells": [
  {
   "cell_type": "code",
   "execution_count": 1,
   "metadata": {},
   "outputs": [
    {
     "name": "stdout",
     "output_type": "stream",
     "text": [
      "Collecting tk\n",
      "  Downloading tk-0.1.0-py3-none-any.whl (3.9 kB)\n",
      "Installing collected packages: tk\n",
      "Successfully installed tk-0.1.0\n"
     ]
    }
   ],
   "source": [
    "!pip install tk"
   ]
  },
  {
   "cell_type": "code",
   "execution_count": 2,
   "metadata": {},
   "outputs": [
    {
     "name": "stdout",
     "output_type": "stream",
     "text": [
      "Requirement already satisfied: pyqt5 in c:\\users\\stith\\anaconda3\\lib\\site-packages (5.15.7)\n",
      "Requirement already satisfied: PyQt5-sip<13,>=12.11 in c:\\users\\stith\\anaconda3\\lib\\site-packages (from pyqt5) (12.11.0)\n"
     ]
    }
   ],
   "source": [
    "!pip install pyqt5"
   ]
  },
  {
   "cell_type": "code",
   "execution_count": 4,
   "metadata": {},
   "outputs": [
    {
     "name": "stdout",
     "output_type": "stream",
     "text": [
      "Collecting PyQt5-tools\n",
      "  Downloading pyqt5_tools-5.15.9.3.3-py3-none-any.whl (29 kB)\n",
      "Collecting python-dotenv\n",
      "  Downloading python_dotenv-1.0.0-py3-none-any.whl (19 kB)\n",
      "Collecting pyqt5-plugins<5.15.9.3,>=5.15.9.2.2\n",
      "  Downloading pyqt5_plugins-5.15.9.2.3-cp310-cp310-win_amd64.whl (66 kB)\n",
      "     ---------------------------------------- 66.8/66.8 kB 3.5 MB/s eta 0:00:00\n",
      "Collecting pyqt5==5.15.9\n",
      "  Downloading PyQt5-5.15.9-cp37-abi3-win_amd64.whl (6.8 MB)\n",
      "     ---------------------------------------- 6.8/6.8 MB 25.8 MB/s eta 0:00:00\n",
      "Requirement already satisfied: click in c:\\users\\stith\\anaconda3\\lib\\site-packages (from PyQt5-tools) (8.0.4)\n",
      "Collecting PyQt5-Qt5>=5.15.2\n",
      "  Downloading PyQt5_Qt5-5.15.2-py3-none-win_amd64.whl (50.1 MB)\n",
      "     --------------------------------------- 50.1/50.1 MB 18.7 MB/s eta 0:00:00\n",
      "Requirement already satisfied: PyQt5-sip<13,>=12.11 in c:\\users\\stith\\anaconda3\\lib\\site-packages (from pyqt5==5.15.9->PyQt5-tools) (12.11.0)\n",
      "Collecting qt5-tools<5.15.2.2,>=5.15.2.1.2\n",
      "  Downloading qt5_tools-5.15.2.1.3-py3-none-any.whl (13 kB)\n",
      "Requirement already satisfied: colorama in c:\\users\\stith\\anaconda3\\lib\\site-packages (from click->PyQt5-tools) (0.4.6)\n",
      "Collecting qt5-applications<5.15.2.3,>=5.15.2.2.2\n",
      "  Downloading qt5_applications-5.15.2.2.3-py3-none-win_amd64.whl (64.5 MB)\n",
      "     --------------------------------------- 64.5/64.5 MB 14.5 MB/s eta 0:00:00\n",
      "Installing collected packages: PyQt5-Qt5, qt5-applications, python-dotenv, pyqt5, qt5-tools, pyqt5-plugins, PyQt5-tools\n",
      "  Attempting uninstall: pyqt5\n",
      "    Found existing installation: PyQt5 5.15.7\n",
      "    Uninstalling PyQt5-5.15.7:\n",
      "      Successfully uninstalled PyQt5-5.15.7\n",
      "Successfully installed PyQt5-Qt5-5.15.2 PyQt5-tools-5.15.9.3.3 pyqt5-5.15.9 pyqt5-plugins-5.15.9.2.3 python-dotenv-1.0.0 qt5-applications-5.15.2.2.3 qt5-tools-5.15.2.1.3\n"
     ]
    }
   ],
   "source": [
    "!pip install PyQt5-tools"
   ]
  }
 ],
 "metadata": {
  "kernelspec": {
   "display_name": "base",
   "language": "python",
   "name": "python3"
  },
  "language_info": {
   "codemirror_mode": {
    "name": "ipython",
    "version": 3
   },
   "file_extension": ".py",
   "mimetype": "text/x-python",
   "name": "python",
   "nbconvert_exporter": "python",
   "pygments_lexer": "ipython3",
   "version": "3.10.9"
  },
  "orig_nbformat": 4
 },
 "nbformat": 4,
 "nbformat_minor": 2
}
